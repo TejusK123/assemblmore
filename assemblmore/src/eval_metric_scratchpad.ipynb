{
 "cells": [
  {
   "cell_type": "code",
   "execution_count": 1,
   "id": "106c4e10",
   "metadata": {},
   "outputs": [],
   "source": [
    "from Bio import SeqIO"
   ]
  },
  {
   "cell_type": "code",
   "execution_count": null,
   "id": "8fda2e41",
   "metadata": {},
   "outputs": [],
   "source": [
    "raw_assembly = SeqIO.parse(\"/Users/tkoti/LabWork/RogLab/assemblmore_testing/C_Briggsae/assembly.fasta\", \"fasta\")\n",
    "assemblmore_assembly = SeqIO.parse(\"/Users/tkoti/LabWork/RogLab/assemblmore_testing/C_Briggsae/Slop_question_mark/assemblmore_output/assemblmore_final_assembly.fasta\", \"fasta\")\n"
   ]
  },
  {
   "cell_type": "code",
   "execution_count": 5,
   "id": "b9bdfdea",
   "metadata": {},
   "outputs": [],
   "source": [
    "raw_assembly = list(raw_assembly)\n",
    "assemblmore_assembly = list(assemblmore_assembly)"
   ]
  },
  {
   "cell_type": "code",
   "execution_count": null,
   "id": "5a083f16",
   "metadata": {},
   "outputs": [],
   "source": [
    "#########Contiguity Metrics#########"
   ]
  },
  {
   "cell_type": "code",
   "execution_count": null,
   "id": "f9ebbea5",
   "metadata": {},
   "outputs": [],
   "source": [
    "def calc_NX(assembly, n):\n",
    "    \"\"\"\n",
    "    Calculate NX of a given assembly.\n",
    "    \"\"\"\n",
    "    lengths = sorted((len(record.seq) for record in assembly), reverse=True)\n",
    "    total_length = sum(lengths)\n",
    "    half_length = total_length / (100 / n)\n",
    "    cumulative_length = 0\n",
    "    for length in lengths:\n",
    "        cumulative_length += length\n",
    "        if cumulative_length >= half_length:\n",
    "            return length\n",
    "    return 0\n",
    "\n",
    "def CC_Ratio(assembly, num_chromosomes):\n",
    "    \"\"\"\n",
    "    Calculate the CC ratio of an assembly.\n",
    "    \"\"\"\n",
    "    return len(assembly) / num_chromosomes\n",
    "\n",
    "def auN(assembly):\n",
    "\n",
    "    numerator = sum([len(record.seq)**2 for record in assembly])\n",
    "    denominator = sum([len(record.seq) for record in assembly])\n",
    "    return numerator / denominator if denominator > 0 else 0\n",
    "\n",
    "\n",
    "calc_N50_raw = calc_NX(raw_assembly, 50)\n",
    "calc_N50_assemblmore = calc_NX(assemblmore_assembly, 50)\n",
    "calc_N50_raw, calc_N50_assemblmore\n",
    "\n",
    "CC_Ratio_raw = CC_Ratio(raw_assembly, 7)\n",
    "CC_Ratio_assemblmore = CC_Ratio(assemblmore_assembly, 7)\n",
    "CC_Ratio_raw, CC_Ratio_assemblmore\n",
    "\n",
    "auN_raw = auN(raw_assembly)\n",
    "auN_assemblmore = auN(assemblmore_assembly)\n",
    "auN_raw, auN_assemblmore\n"
   ]
  },
  {
   "cell_type": "code",
   "execution_count": null,
   "id": "40e12c0e",
   "metadata": {},
   "outputs": [],
   "source": [
    "##############################"
   ]
  },
  {
   "cell_type": "code",
   "execution_count": null,
   "id": "593e9b73",
   "metadata": {},
   "outputs": [],
   "source": [
    "#######Completeness Metrics#########"
   ]
  },
  {
   "cell_type": "code",
   "execution_count": null,
   "id": "75922a80",
   "metadata": {},
   "outputs": [],
   "source": [
    "# Idea: Coverage should be approximately constant across the genome.\n",
    "# In reality, it will vary, i.e telomeres usually have higher coverage as adapter ligation happens easier there.\n",
    "\n",
    "# Assuming the idea is true however, getting the mean squared deviation of the coverage across the genome \n",
    "# should give us a good idea of the collapsed repeat landscape etc."
   ]
  },
  {
   "cell_type": "code",
   "execution_count": 23,
   "id": "52aa5f03",
   "metadata": {},
   "outputs": [],
   "source": [
    "import pandas as pd"
   ]
  },
  {
   "cell_type": "code",
   "execution_count": 24,
   "id": "eeaf3aab",
   "metadata": {},
   "outputs": [],
   "source": [
    "coverage_data = pd.read_csv('/Users/tkoti/LabWork/RogLab/assemblmore_testing/C_Briggsae/merge_test_1/C_briggsae_AF16.fasta_mapped_to_penultimate_automated_assembly.sorted.bam.tdf.bedgraph', sep = '\\t', header = None)"
   ]
  },
  {
   "cell_type": "code",
   "execution_count": 29,
   "id": "bfd45068",
   "metadata": {},
   "outputs": [],
   "source": [
    "by_chr = list(coverage_data.groupby(0))"
   ]
  },
  {
   "cell_type": "code",
   "execution_count": 31,
   "id": "e4c7e4a6",
   "metadata": {},
   "outputs": [],
   "source": [
    "test = by_chr[0]"
   ]
  },
  {
   "cell_type": "code",
   "execution_count": 35,
   "id": "0aa08408",
   "metadata": {},
   "outputs": [],
   "source": [
    "test_chr = test[0]\n",
    "test_coverage_df = test[1]\n",
    "test_coverage = test_coverage_df[3]"
   ]
  },
  {
   "cell_type": "code",
   "execution_count": 38,
   "id": "9b322bb8",
   "metadata": {},
   "outputs": [],
   "source": [
    "coverage_mean = test_coverage.mean()"
   ]
  },
  {
   "cell_type": "code",
   "execution_count": 39,
   "id": "2f44eaf4",
   "metadata": {},
   "outputs": [],
   "source": [
    "coverage_mean_squared_deviation = ((test_coverage - coverage_mean) ** 2).mean()"
   ]
  },
  {
   "cell_type": "code",
   "execution_count": 40,
   "id": "e9301b07",
   "metadata": {},
   "outputs": [
    {
     "data": {
      "text/plain": [
       "np.float64(43896.87651899429)"
      ]
     },
     "execution_count": 40,
     "metadata": {},
     "output_type": "execute_result"
    }
   ],
   "source": [
    "coverage_mean_squared_deviation"
   ]
  },
  {
   "cell_type": "code",
   "execution_count": 41,
   "id": "baa516bd",
   "metadata": {},
   "outputs": [],
   "source": [
    "total = 0\n",
    "for i in range(len(by_chr)):\n",
    "    test = by_chr[i]\n",
    "    test_chr = test[0]\n",
    "    test_coverage_df = test[1]\n",
    "    test_coverage = test_coverage_df[3]\n",
    "    \n",
    "    coverage_mean = test_coverage.mean()\n",
    "    coverage_mean_squared_deviation = ((test_coverage - coverage_mean) ** 2).mean()\n",
    "    \n",
    "    total += coverage_mean_squared_deviation"
   ]
  },
  {
   "cell_type": "code",
   "execution_count": 42,
   "id": "1781ad12",
   "metadata": {},
   "outputs": [
    {
     "data": {
      "text/plain": [
       "np.float64(57149.297628114844)"
      ]
     },
     "execution_count": 42,
     "metadata": {},
     "output_type": "execute_result"
    }
   ],
   "source": [
    "total"
   ]
  },
  {
   "cell_type": "code",
   "execution_count": null,
   "id": "e843ef04",
   "metadata": {},
   "outputs": [],
   "source": []
  }
 ],
 "metadata": {
  "kernelspec": {
   "display_name": "general",
   "language": "python",
   "name": "python3"
  },
  "language_info": {
   "codemirror_mode": {
    "name": "ipython",
    "version": 3
   },
   "file_extension": ".py",
   "mimetype": "text/x-python",
   "name": "python",
   "nbconvert_exporter": "python",
   "pygments_lexer": "ipython3",
   "version": "3.13.5"
  }
 },
 "nbformat": 4,
 "nbformat_minor": 5
}
