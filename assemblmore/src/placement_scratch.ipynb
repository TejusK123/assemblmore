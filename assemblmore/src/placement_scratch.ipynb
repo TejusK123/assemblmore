{
 "cells": [
  {
   "cell_type": "code",
   "execution_count": null,
   "id": "6c9cfb9d",
   "metadata": {},
   "outputs": [],
   "source": [
    "\n",
    "output_df = contig_to_chr.sort_values(by=['chr', 'min_chr_map_start'])\n"
   ]
  },
  {
   "cell_type": "code",
   "execution_count": 2,
   "id": "5950b29a",
   "metadata": {},
   "outputs": [],
   "source": [
    "import numpy as np\n",
    "import pandas as pd\n",
    "from Bio import SeqIO\n",
    "import networkx as nx"
   ]
  },
  {
   "cell_type": "code",
   "execution_count": 3,
   "id": "bc19a69e",
   "metadata": {},
   "outputs": [],
   "source": [
    "mappings_df = pd.read_csv('/mnt/c/users/tkoti/Desktop/Genomes/gap_fill_automation/C_Nigoni/assembly.fasta_mapped_to_caenorhabditis_nigoni.PRJNA384657.WBPS19.genomic.fa.sorted.paf', delimiter = '\\t', header = None)\n",
    "mappings_df.columns = (\n",
    "['contig', 'contig_length', 'contig_map_start', 'contig_map_end', \n",
    "'strand', 'chr', 'chr_length', 'chr_map_start', 'chr_map_end', 'matched_bases', 'matched_total', 'mapping_quality'] + \n",
    "[f\"sup_{i}\" for i in range(mappings_df.shape[1] - 12)]\n",
    ")"
   ]
  },
  {
   "cell_type": "code",
   "execution_count": 7,
   "id": "813de68d",
   "metadata": {},
   "outputs": [],
   "source": [
    "def get_readlength_stats(reads_file):\n",
    "    read_lengths = (len(record.seq) for record in SeqIO.parse(reads_file, \"fasta\"))\n",
    "    return pd.Series(read_lengths).describe()"
   ]
  },
  {
   "cell_type": "code",
   "execution_count": 8,
   "id": "1c042023",
   "metadata": {},
   "outputs": [
    {
     "ename": "KeyboardInterrupt",
     "evalue": "",
     "output_type": "error",
     "traceback": [
      "\u001b[0;31m---------------------------------------------------------------------------\u001b[0m",
      "\u001b[0;31mKeyboardInterrupt\u001b[0m                         Traceback (most recent call last)",
      "Cell \u001b[0;32mIn[8], line 1\u001b[0m\n\u001b[0;32m----> 1\u001b[0m read_stats \u001b[38;5;241m=\u001b[39m \u001b[43mget_readlength_stats\u001b[49m\u001b[43m(\u001b[49m\u001b[38;5;124;43m'\u001b[39;49m\u001b[38;5;124;43m/mnt/c/users/tkoti/Desktop/Genomes/raw_reads/C_nigoni_JU1422.fasta\u001b[39;49m\u001b[38;5;124;43m'\u001b[39;49m\u001b[43m)\u001b[49m\n",
      "Cell \u001b[0;32mIn[7], line 3\u001b[0m, in \u001b[0;36mget_readlength_stats\u001b[0;34m(reads_file)\u001b[0m\n\u001b[1;32m      1\u001b[0m \u001b[38;5;28;01mdef\u001b[39;00m \u001b[38;5;21mget_readlength_stats\u001b[39m(reads_file):\n\u001b[1;32m      2\u001b[0m     read_lengths \u001b[38;5;241m=\u001b[39m (\u001b[38;5;28mlen\u001b[39m(record\u001b[38;5;241m.\u001b[39mseq) \u001b[38;5;28;01mfor\u001b[39;00m record \u001b[38;5;129;01min\u001b[39;00m SeqIO\u001b[38;5;241m.\u001b[39mparse(reads_file, \u001b[38;5;124m\"\u001b[39m\u001b[38;5;124mfasta\u001b[39m\u001b[38;5;124m\"\u001b[39m))\n\u001b[0;32m----> 3\u001b[0m     \u001b[38;5;28;01mreturn\u001b[39;00m \u001b[43mpd\u001b[49m\u001b[38;5;241;43m.\u001b[39;49m\u001b[43mSeries\u001b[49m\u001b[43m(\u001b[49m\u001b[43mread_lengths\u001b[49m\u001b[43m)\u001b[49m\u001b[38;5;241m.\u001b[39mdescribe()\n",
      "File \u001b[0;32m~/miniconda3/envs/Nanopore/lib/python3.8/site-packages/pandas/core/series.py:490\u001b[0m, in \u001b[0;36mSeries.__init__\u001b[0;34m(self, data, index, dtype, name, copy, fastpath)\u001b[0m\n\u001b[1;32m    488\u001b[0m     \u001b[38;5;28;01mpass\u001b[39;00m\n\u001b[1;32m    489\u001b[0m \u001b[38;5;28;01melse\u001b[39;00m:\n\u001b[0;32m--> 490\u001b[0m     data \u001b[38;5;241m=\u001b[39m \u001b[43mcom\u001b[49m\u001b[38;5;241;43m.\u001b[39;49m\u001b[43mmaybe_iterable_to_list\u001b[49m\u001b[43m(\u001b[49m\u001b[43mdata\u001b[49m\u001b[43m)\u001b[49m\n\u001b[1;32m    491\u001b[0m     \u001b[38;5;28;01mif\u001b[39;00m is_list_like(data) \u001b[38;5;129;01mand\u001b[39;00m \u001b[38;5;129;01mnot\u001b[39;00m \u001b[38;5;28mlen\u001b[39m(data) \u001b[38;5;129;01mand\u001b[39;00m dtype \u001b[38;5;129;01mis\u001b[39;00m \u001b[38;5;28;01mNone\u001b[39;00m:\n\u001b[1;32m    492\u001b[0m         \u001b[38;5;66;03m# GH 29405: Pre-2.0, this defaulted to float.\u001b[39;00m\n\u001b[1;32m    493\u001b[0m         dtype \u001b[38;5;241m=\u001b[39m np\u001b[38;5;241m.\u001b[39mdtype(\u001b[38;5;28mobject\u001b[39m)\n",
      "File \u001b[0;32m~/miniconda3/envs/Nanopore/lib/python3.8/site-packages/pandas/core/common.py:301\u001b[0m, in \u001b[0;36mmaybe_iterable_to_list\u001b[0;34m(obj)\u001b[0m\n\u001b[1;32m    297\u001b[0m \u001b[38;5;250m\u001b[39m\u001b[38;5;124;03m\"\"\"\u001b[39;00m\n\u001b[1;32m    298\u001b[0m \u001b[38;5;124;03mIf obj is Iterable but not list-like, consume into list.\u001b[39;00m\n\u001b[1;32m    299\u001b[0m \u001b[38;5;124;03m\"\"\"\u001b[39;00m\n\u001b[1;32m    300\u001b[0m \u001b[38;5;28;01mif\u001b[39;00m \u001b[38;5;28misinstance\u001b[39m(obj, abc\u001b[38;5;241m.\u001b[39mIterable) \u001b[38;5;129;01mand\u001b[39;00m \u001b[38;5;129;01mnot\u001b[39;00m \u001b[38;5;28misinstance\u001b[39m(obj, abc\u001b[38;5;241m.\u001b[39mSized):\n\u001b[0;32m--> 301\u001b[0m     \u001b[38;5;28;01mreturn\u001b[39;00m \u001b[38;5;28;43mlist\u001b[39;49m\u001b[43m(\u001b[49m\u001b[43mobj\u001b[49m\u001b[43m)\u001b[49m\n\u001b[1;32m    302\u001b[0m obj \u001b[38;5;241m=\u001b[39m cast(Collection, obj)\n\u001b[1;32m    303\u001b[0m \u001b[38;5;28;01mreturn\u001b[39;00m obj\n",
      "Cell \u001b[0;32mIn[7], line 2\u001b[0m, in \u001b[0;36m<genexpr>\u001b[0;34m(.0)\u001b[0m\n\u001b[1;32m      1\u001b[0m \u001b[38;5;28;01mdef\u001b[39;00m \u001b[38;5;21mget_readlength_stats\u001b[39m(reads_file):\n\u001b[0;32m----> 2\u001b[0m     read_lengths \u001b[38;5;241m=\u001b[39m (\u001b[38;5;28mlen\u001b[39m(record\u001b[38;5;241m.\u001b[39mseq) \u001b[38;5;28;01mfor\u001b[39;00m record \u001b[38;5;129;01min\u001b[39;00m SeqIO\u001b[38;5;241m.\u001b[39mparse(reads_file, \u001b[38;5;124m\"\u001b[39m\u001b[38;5;124mfasta\u001b[39m\u001b[38;5;124m\"\u001b[39m))\n\u001b[1;32m      3\u001b[0m     \u001b[38;5;28;01mreturn\u001b[39;00m pd\u001b[38;5;241m.\u001b[39mSeries(read_lengths)\u001b[38;5;241m.\u001b[39mdescribe()\n",
      "File \u001b[0;32m~/miniconda3/envs/Nanopore/lib/python3.8/site-packages/Bio/SeqIO/Interfaces.py:85\u001b[0m, in \u001b[0;36mSequenceIterator.__next__\u001b[0;34m(self)\u001b[0m\n\u001b[1;32m     83\u001b[0m \u001b[38;5;250m\u001b[39m\u001b[38;5;124;03m\"\"\"Return the next entry.\"\"\"\u001b[39;00m\n\u001b[1;32m     84\u001b[0m \u001b[38;5;28;01mtry\u001b[39;00m:\n\u001b[0;32m---> 85\u001b[0m     \u001b[38;5;28;01mreturn\u001b[39;00m \u001b[38;5;28;43mnext\u001b[39;49m\u001b[43m(\u001b[49m\u001b[38;5;28;43mself\u001b[39;49m\u001b[38;5;241;43m.\u001b[39;49m\u001b[43mrecords\u001b[49m\u001b[43m)\u001b[49m\n\u001b[1;32m     86\u001b[0m \u001b[38;5;28;01mexcept\u001b[39;00m \u001b[38;5;167;01mException\u001b[39;00m:\n\u001b[1;32m     87\u001b[0m     \u001b[38;5;28;01mif\u001b[39;00m \u001b[38;5;28mself\u001b[39m\u001b[38;5;241m.\u001b[39mshould_close_stream:\n",
      "File \u001b[0;32m~/miniconda3/envs/Nanopore/lib/python3.8/site-packages/Bio/SeqIO/FastaIO.py:199\u001b[0m, in \u001b[0;36mFastaIterator.iterate\u001b[0;34m(self, handle)\u001b[0m\n\u001b[1;32m    197\u001b[0m \u001b[38;5;28;01mdef\u001b[39;00m \u001b[38;5;21miterate\u001b[39m(\u001b[38;5;28mself\u001b[39m, handle):\n\u001b[1;32m    198\u001b[0m \u001b[38;5;250m    \u001b[39m\u001b[38;5;124;03m\"\"\"Parse the file and generate SeqRecord objects.\"\"\"\u001b[39;00m\n\u001b[0;32m--> 199\u001b[0m     \u001b[38;5;28;01mfor\u001b[39;00m title, sequence \u001b[38;5;129;01min\u001b[39;00m SimpleFastaParser(handle):\n\u001b[1;32m    200\u001b[0m         \u001b[38;5;28;01mtry\u001b[39;00m:\n\u001b[1;32m    201\u001b[0m             first_word \u001b[38;5;241m=\u001b[39m title\u001b[38;5;241m.\u001b[39msplit(\u001b[38;5;28;01mNone\u001b[39;00m, \u001b[38;5;241m1\u001b[39m)[\u001b[38;5;241m0\u001b[39m]\n",
      "File \u001b[0;32m~/miniconda3/envs/Nanopore/lib/python3.8/site-packages/Bio/SeqIO/FastaIO.py:65\u001b[0m, in \u001b[0;36mSimpleFastaParser\u001b[0;34m(handle)\u001b[0m\n\u001b[1;32m     60\u001b[0m \u001b[38;5;66;03m# Main logic\u001b[39;00m\n\u001b[1;32m     61\u001b[0m \u001b[38;5;66;03m# Note, remove trailing whitespace, and any internal spaces\u001b[39;00m\n\u001b[1;32m     62\u001b[0m \u001b[38;5;66;03m# (and any embedded \\r which are possible in mangled files\u001b[39;00m\n\u001b[1;32m     63\u001b[0m \u001b[38;5;66;03m# when not opened in universal read lines mode)\u001b[39;00m\n\u001b[1;32m     64\u001b[0m lines \u001b[38;5;241m=\u001b[39m []\n\u001b[0;32m---> 65\u001b[0m \u001b[38;5;28;01mfor\u001b[39;00m line \u001b[38;5;129;01min\u001b[39;00m handle:\n\u001b[1;32m     66\u001b[0m     \u001b[38;5;28;01mif\u001b[39;00m line[\u001b[38;5;241m0\u001b[39m] \u001b[38;5;241m==\u001b[39m \u001b[38;5;124m\"\u001b[39m\u001b[38;5;124m>\u001b[39m\u001b[38;5;124m\"\u001b[39m:\n\u001b[1;32m     67\u001b[0m         \u001b[38;5;28;01myield\u001b[39;00m title, \u001b[38;5;124m\"\u001b[39m\u001b[38;5;124m\"\u001b[39m\u001b[38;5;241m.\u001b[39mjoin(lines)\u001b[38;5;241m.\u001b[39mreplace(\u001b[38;5;124m\"\u001b[39m\u001b[38;5;124m \u001b[39m\u001b[38;5;124m\"\u001b[39m, \u001b[38;5;124m\"\u001b[39m\u001b[38;5;124m\"\u001b[39m)\u001b[38;5;241m.\u001b[39mreplace(\u001b[38;5;124m\"\u001b[39m\u001b[38;5;130;01m\\r\u001b[39;00m\u001b[38;5;124m\"\u001b[39m, \u001b[38;5;124m\"\u001b[39m\u001b[38;5;124m\"\u001b[39m)\n",
      "File \u001b[0;32m~/miniconda3/envs/Nanopore/lib/python3.8/codecs.py:319\u001b[0m, in \u001b[0;36mBufferedIncrementalDecoder.decode\u001b[0;34m(self, input, final)\u001b[0m\n\u001b[1;32m    314\u001b[0m \u001b[38;5;28;01mdef\u001b[39;00m \u001b[38;5;21m_buffer_decode\u001b[39m(\u001b[38;5;28mself\u001b[39m, \u001b[38;5;28minput\u001b[39m, errors, final):\n\u001b[1;32m    315\u001b[0m     \u001b[38;5;66;03m# Overwrite this method in subclasses: It must decode input\u001b[39;00m\n\u001b[1;32m    316\u001b[0m     \u001b[38;5;66;03m# and return an (output, length consumed) tuple\u001b[39;00m\n\u001b[1;32m    317\u001b[0m     \u001b[38;5;28;01mraise\u001b[39;00m \u001b[38;5;167;01mNotImplementedError\u001b[39;00m\n\u001b[0;32m--> 319\u001b[0m \u001b[38;5;28;01mdef\u001b[39;00m \u001b[38;5;21mdecode\u001b[39m(\u001b[38;5;28mself\u001b[39m, \u001b[38;5;28minput\u001b[39m, final\u001b[38;5;241m=\u001b[39m\u001b[38;5;28;01mFalse\u001b[39;00m):\n\u001b[1;32m    320\u001b[0m     \u001b[38;5;66;03m# decode input (taking the buffer into account)\u001b[39;00m\n\u001b[1;32m    321\u001b[0m     data \u001b[38;5;241m=\u001b[39m \u001b[38;5;28mself\u001b[39m\u001b[38;5;241m.\u001b[39mbuffer \u001b[38;5;241m+\u001b[39m \u001b[38;5;28minput\u001b[39m\n\u001b[1;32m    322\u001b[0m     (result, consumed) \u001b[38;5;241m=\u001b[39m \u001b[38;5;28mself\u001b[39m\u001b[38;5;241m.\u001b[39m_buffer_decode(data, \u001b[38;5;28mself\u001b[39m\u001b[38;5;241m.\u001b[39merrors, final)\n",
      "\u001b[0;31mKeyboardInterrupt\u001b[0m: "
     ]
    }
   ],
   "source": [
    "read_stats = get_readlength_stats('/mnt/c/users/tkoti/Desktop/Genomes/raw_reads/C_nigoni_JU1422.fasta')"
   ]
  },
  {
   "cell_type": "code",
   "execution_count": null,
   "id": "ecc51dc6",
   "metadata": {},
   "outputs": [],
   "source": [
    "organelle_options = ['MT', 'mt', 'mitochondrion', 'chloroplast', 'plastid']  # Add more organelle identifiers as needed\n",
    "\n",
    "organelle_contigs = mappings_df[mappings_df['chr'].isin(organelle_options)] # For now, ok, in future, filter out chloroplasts and use regex to account for multiple formats\n",
    "\n",
    "mappings_df = mappings_df[(~mappings_df['chr'].isin(organelle_options)) & (mappings_df['contig_length'] > min_contig_length) & (mappings_df['sup_0'] == 'tp:A:P')]"
   ]
  },
  {
   "cell_type": "code",
   "execution_count": null,
   "id": "95162c79",
   "metadata": {},
   "outputs": [],
   "source": [
    "prom_map = {item : {chr : 0 for chr in mappings_df['chr'].unique()} for item in mappings_df['contig'].unique()}\n",
    "for key, value in prom_map.items():\n",
    "    for chr, count in value.items():\n",
    "        prom_map[key][chr] += int(mappings_df[(mappings_df['contig'] == key) & (mappings_df['chr'] == chr)]['matched_total'].sum())\n",
    "\n",
    "\n",
    "contig_to_chr = pd.DataFrame(sorted([(item, next(key for key,value in prom_map[item].items() \n",
    "                                if value == max(prom_map[item].values()))) for item in prom_map.keys()], \n",
    "                                key = lambda x: x[1]), columns=['contig', 'chr'])"
   ]
  },
  {
   "cell_type": "code",
   "execution_count": null,
   "id": "a7805ad5",
   "metadata": {},
   "outputs": [],
   "source": [
    "strand_modes, max_chr_map_ends, min_chr_map_starts = [], [], [] #latest edit\n",
    "strand_map = {'+': 1, '-': -1}  # Map strand to numerical values for mode calculation\n",
    "for item in contig_to_chr.itertuples(index=False):\n",
    "\n",
    "    poi_df = mappings_df[(mappings_df['contig'] == item[0]) & (mappings_df['chr'] == item[1])]\n",
    "\n",
    "    ############# Calculate strand mode using a weighted approach\n",
    "\n",
    "    matched_total = poi_df['matched_total'].sum()\n",
    "    length_ratio_series = (poi_df['contig_map_end'] - poi_df['contig_map_start']) / matched_total\n",
    "    criterion = (poi_df['strand'].apply(lambda x: strand_map[x] if x in strand_map else np.nan) @ length_ratio_series)\n",
    "    if criterion >= 0:\n",
    "        strand_modes.append('+')\n",
    "    else:\n",
    "        strand_modes.append('-')\n",
    "\n",
    "    #mode_series = poi_df['strand'].mode() <- old method, but does not work well for complex regions with multiple mappings\n",
    "    #############\n",
    "\n",
    "    \n",
    "\n",
    "    #max_end = mappings_df[(mappings_df['contig'] == item[0]) & (mappings_df['chr'] == item[1]) & (mappings_df['mapping_quality'] == 60)]['chr_map_end'].max()\n",
    "    max_end = poi_df[poi_df['mapping_quality'] >= phred_threshold]['chr_map_end'].max() #latest edit\n",
    "    #min_start = mappings_df[(mappings_df['contig'] == item[0]) & (mappings_df['chr'] == item[1]) & (mappings_df['mapping_quality'] == 60)]['chr_map_start'].min() #latest edit\n",
    "\n",
    "    min_start = poi_df[poi_df['mapping_quality'] >= phred_threshold]['chr_map_start'].min() #latest edit\n",
    "    #This will also have some bugs, check when more data available\n",
    "    if pd.isnull(max_end):\n",
    "        print(f\"Warning: No valid chr_map_end found for contig {item[0]} on chr {item[1]}.\")\n",
    "    max_chr_map_ends.append(max_end if pd.notnull(max_end) else None)\n",
    "    min_chr_map_starts.append(min_start if pd.notnull(min_start) else None) #latest edit\n",
    "\n",
    "\n",
    "contig_to_chr['strand_mode'] = strand_modes\n",
    "contig_to_chr['min_chr_map_start'] = min_chr_map_starts  # latest edit\n",
    "contig_to_chr['max_chr_map_end'] = max_chr_map_ends\n",
    "\n",
    "\n",
    "####################################################\n",
    "\n",
    "output_df = contig_to_chr.sort_values(by=['chr', 'min_chr_map_start'])"
   ]
  }
 ],
 "metadata": {
  "kernelspec": {
   "display_name": "Nanopore",
   "language": "python",
   "name": "python3"
  },
  "language_info": {
   "codemirror_mode": {
    "name": "ipython",
    "version": 3
   },
   "file_extension": ".py",
   "mimetype": "text/x-python",
   "name": "python",
   "nbconvert_exporter": "python",
   "pygments_lexer": "ipython3",
   "version": "3.8.19"
  }
 },
 "nbformat": 4,
 "nbformat_minor": 5
}
